{
 "cells": [
  {
   "cell_type": "markdown",
   "id": "6eeff196-c048-40c9-a4f3-a3840a16155c",
   "metadata": {},
   "source": [
    "# BikeEase AI Advertisement Generator 🚲\n",
    "\n",
    "This notebook explores how to use Generative AI (LLMs + LangChain)  \n",
    "to automatically create marketing advertisements for BikeEase.\n",
    "\n",
    "**Goals**\n",
    "- Accept bike specifications, discounts, and themes as input  \n",
    "- Generate persuasive ad copy with Hugging Face models  \n",
    "- Use LangChain for structured prompt management\n"
   ]
  },
  {
   "cell_type": "code",
   "execution_count": 2,
   "id": "e09aeb34-0123-448a-b982-6bf7ae8e9adc",
   "metadata": {},
   "outputs": [],
   "source": [
    "!pip install langchain transformers huggingface_hub torch langchain-community --quiet\n",
    "\n",
    "from transformers import pipeline\n",
    "from langchain.prompts import PromptTemplate\n",
    "from langchain.chains import LLMChain\n",
    "from langchain_community.llms import HuggingFacePipeline\n",
    "\n",
    "\n"
   ]
  },
  {
   "cell_type": "code",
   "execution_count": 21,
   "id": "eaa8945d-d392-4197-95ce-bbbb87059003",
   "metadata": {},
   "outputs": [
    {
     "name": "stderr",
     "output_type": "stream",
     "text": [
      "Device set to use mps:0\n"
     ]
    },
    {
     "name": "stdout",
     "output_type": "stream",
     "text": [
      "✅ Model loaded: databricks/dolly-v2-3b\n"
     ]
    }
   ],
   "source": [
    "from transformers import pipeline\n",
    "from langchain_community.llms import HuggingFacePipeline\n",
    "\n",
    "\n",
    "\n",
    "# GPT-2 Small (very lightweight, but not instruction-tuned)\n",
    "# generator = pipeline(\n",
    "#     \"text-generation\",\n",
    "#     model=\"distilgpt2\",\n",
    "#     max_new_tokens=150,\n",
    "#     do_sample=True,\n",
    "#     temperature=0.7,\n",
    "#     top_p=0.9\n",
    "# )\n",
    "# Notes: Fast, but tends to echo prompts. Good for quick sanity checks.\n",
    "\n",
    "# Dolly v2 3B (instruction-tuned, high quality, heavy)\n",
    "generator = pipeline(\n",
    "    \"text-generation\",\n",
    "    model=\"databricks/dolly-v2-3b\",\n",
    "    revision=\"main\",\n",
    "    trust_remote_code=True,\n",
    "    max_new_tokens=150,\n",
    "    temperature=0.7,\n",
    "    top_p=0.9\n",
    ")\n",
    "# Notes: ~6GB, very slow locally. Better quality, supports instructions.\n",
    "\n",
    "\n",
    "\n",
    "# GPT-Neo 125M (larger than GPT-2, open-source)\n",
    "# generator = pipeline(\n",
    "#     \"text-generation\",\n",
    "#     model=\"EleutherAI/gpt-neo-125M\",\n",
    "#     max_new_tokens=150,\n",
    "#     temperature=0.7,\n",
    "#     top_p=0.9\n",
    "# )\n",
    "# Notes: More coherent than GPT-2, but not instruction-tuned.\n",
    "\n",
    "\n",
    "\n",
    "llm = HuggingFacePipeline(pipeline=generator)\n",
    "print(f\"✅ Model loaded: {generator.model.name_or_path}\")\n",
    "\n",
    "\n"
   ]
  },
  {
   "cell_type": "code",
   "execution_count": 22,
   "id": "a5de22a1-8f8b-4b4f-955d-c61cc5bad7a1",
   "metadata": {},
   "outputs": [],
   "source": [
    "ad_prompt = PromptTemplate(\n",
    "    input_variables=[\"length\", \"bike_specs\", \"discount\", \"tone\", \"target_audience\"],\n",
    "    template=\"\"\"You are a marketing assistant for BikeEase.\n",
    "    Write a {length} advertisement for a {bike_specs}.\n",
    "    Highlight the offer: {discount}.\n",
    "    Use a {tone} tone to appeal to {target_audience}.\n",
    "    Ensure the content is persuasive and consistent with BikeEase’s branding.\"\"\"\n",
    ")\n"
   ]
  },
  {
   "cell_type": "code",
   "execution_count": 23,
   "id": "fe732bc8-9037-4693-9d56-4ef525529603",
   "metadata": {},
   "outputs": [
    {
     "name": "stdout",
     "output_type": "stream",
     "text": [
      "Generated Advertisement:\n",
      "\n",
      "We’re offering 20% off all 24-gear mountain bikes this weekend at BikeEase. This offer is valid online and in-store at our store in your city. Click the link in our bio to see our full lineup of mountain bikes.\n",
      "\n",
      "Use a hashtag #BikeEase20 on social media to share this post.\n"
     ]
    }
   ],
   "source": [
    "chain = LLMChain(llm=llm, prompt=ad_prompt)\n",
    "\n",
    "result = chain.run({\n",
    "    \"length\": \"short social media post\",\n",
    "    \"bike_specs\": \"24-gear mountain bike\",\n",
    "    \"discount\": \"20% off this weekend\",\n",
    "    \"tone\": \"energetic\",\n",
    "    \"target_audience\": \"young adventure seekers\"\n",
    "})\n",
    "\n",
    "print(\"Generated Advertisement:\\n\")\n",
    "print(result)\n"
   ]
  },
  {
   "cell_type": "code",
   "execution_count": 20,
   "id": "5b47a414-2fae-4c55-83f8-a271339de17f",
   "metadata": {},
   "outputs": [
    {
     "name": "stderr",
     "output_type": "stream",
     "text": [
      "Device set to use mps:0\n",
      "The following generation flags are not valid and may be ignored: ['temperature', 'top_p']. Set `TRANSFORMERS_VERBOSITY=info` for more details.\n",
      "The following generation flags are not valid and may be ignored: ['temperature', 'top_p']. Set `TRANSFORMERS_VERBOSITY=info` for more details.\n"
     ]
    },
    {
     "name": "stdout",
     "output_type": "stream",
     "text": [
      "Generated Advertisement:\n",
      "\n",
      "Bike: 24-gear mountain bike offer: 20% off this weekend\n"
     ]
    }
   ],
   "source": [
    "from transformers import pipeline\n",
    "from langchain_community.llms import HuggingFacePipeline\n",
    "from langchain.prompts import PromptTemplate\n",
    "from langchain.chains import LLMChain\n",
    "\n",
    "generator = pipeline(\n",
    "    \"text2text-generation\",\n",
    "    model=\"google/flan-t5-base\",\n",
    "    max_new_tokens=120,\n",
    "    temperature=0.7,\n",
    "    top_p=0.9\n",
    ")\n",
    "\n",
    "llm = HuggingFacePipeline(pipeline=generator)\n",
    "\n",
    "ad_prompt = PromptTemplate(\n",
    "    input_variables=[\"bike_specs\", \"discount\", \"tone\", \"target_audience\"],\n",
    "    template=\"\"\"You are a creative copywriter for BikeEase. \n",
    "Generate short, catchy social media ads. \n",
    "\n",
    "Here are some examples:\n",
    "\n",
    "Example 1:\n",
    "🚴‍♂️ Adventure awaits! Grab your BikeEase city cruiser 🌆 and enjoy the ride.  \n",
    "🔥 Limited Time: 10% OFF this weekend!  \n",
    "#BikeEase #CityLife #RideMore\n",
    "\n",
    "Example 2:\n",
    "🌲 Conquer the outdoors with BikeEase’s rugged mountain bikes!  \n",
    "🌟 First ride special: 15% OFF today only!  \n",
    "#AdventureAwaits #BikeEase #TrailBlazers\n",
    "\n",
    "Now write a new ad:\n",
    "\n",
    "Bike: {bike_specs}  \n",
    "Offer: {discount}  \n",
    "Tone: {tone}  \n",
    "Audience: {target_audience}\n",
    "\"\"\"\n",
    ")\n",
    "\n",
    "chain = LLMChain(llm=llm, prompt=ad_prompt)\n",
    "\n",
    "result = chain.invoke({\n",
    "    \"bike_specs\": \"24-gear mountain bike\",\n",
    "    \"discount\": \"20% off this weekend\",\n",
    "    \"tone\": \"energetic\",\n",
    "    \"target_audience\": \"young adventure seekers\"\n",
    "})\n",
    "\n",
    "print(\"Generated Advertisement:\\n\")\n",
    "print(result[\"text\"])\n",
    "\n"
   ]
  },
  {
   "cell_type": "code",
   "execution_count": 25,
   "id": "db752693-603b-4b31-b992-82f2c0df9bef",
   "metadata": {},
   "outputs": [
    {
     "name": "stderr",
     "output_type": "stream",
     "text": [
      "Device set to use mps:0\n"
     ]
    },
    {
     "name": "stdout",
     "output_type": "stream",
     "text": [
      "Generated Advertisement:\n",
      "\n",
      "#bikeease #citylife #ridemore\n"
     ]
    }
   ],
   "source": [
    "from transformers import pipeline\n",
    "from langchain_community.llms import HuggingFacePipeline\n",
    "from langchain.prompts import PromptTemplate\n",
    "from langchain.chains import LLMChain\n",
    "\n",
    "# Use Dolly v2 3B\n",
    "generator = pipeline(\n",
    "    \"text-generation\",\n",
    "    model=\"databricks/dolly-v2-3b\",\n",
    "    revision=\"main\",\n",
    "    trust_remote_code=True,\n",
    "    max_new_tokens=250,   # increase so it doesn't truncate\n",
    "    temperature=0.9,      # a little more creativity\n",
    "    top_p=0.95,           # wider nucleus sampling\n",
    "    do_sample=True        # make sure it samples instead of greedy\n",
    ")\n",
    "\n",
    "llm = HuggingFacePipeline(pipeline=generator)\n",
    "\n",
    "# Few-shot prompt to guide Dolly's style\n",
    "ad_prompt = PromptTemplate(\n",
    "    input_variables=[\"bike_specs\", \"discount\", \"tone\", \"target_audience\"],\n",
    "    template=\"\"\"You are a creative marketing assistant for BikeEase.\n",
    "\n",
    "Here are examples of BikeEase ads:\n",
    "\n",
    "Example 1:\n",
    "🚴‍♂️ Adventure awaits! Grab your BikeEase city cruiser 🌆 and enjoy the ride.  \n",
    "🔥 Limited Time: 10% OFF this weekend!  \n",
    "#BikeEase #CityLife #RideMore\n",
    "\n",
    "Example 2:\n",
    "🌲 Conquer the outdoors with BikeEase’s rugged mountain bikes!  \n",
    "🌟 First ride special: 15% OFF today only!  \n",
    "#AdventureAwaits #BikeEase #TrailBlazers\n",
    "\n",
    "Now write a {tone} social media ad:\n",
    "\n",
    "Bike: {bike_specs}  \n",
    "Offer: {discount}  \n",
    "Audience: {target_audience}\n",
    "\n",
    "Keep it under 60 words. Use emojis and hashtags. End with a strong call-to-action.\n",
    "\"\"\"\n",
    ")\n",
    "\n",
    "chain = LLMChain(llm=llm, prompt=ad_prompt)\n",
    "\n",
    "result = chain.invoke({\n",
    "    \"bike_specs\": \"24-gear mountain bike\",\n",
    "    \"discount\": \"20% off this weekend\",\n",
    "    \"tone\": \"energetic\",\n",
    "    \"target_audience\": \"young adventure seekers\"\n",
    "})\n",
    "\n",
    "print(\"Generated Advertisement:\\n\")\n",
    "print(result[\"text\"])\n"
   ]
  },
  {
   "cell_type": "code",
   "execution_count": null,
   "id": "7482cc00-1f3b-4ea0-aad2-4b73cab883a5",
   "metadata": {},
   "outputs": [],
   "source": []
  }
 ],
 "metadata": {
  "kernelspec": {
   "display_name": "Python 3 (ipykernel)",
   "language": "python",
   "name": "python3"
  },
  "language_info": {
   "codemirror_mode": {
    "name": "ipython",
    "version": 3
   },
   "file_extension": ".py",
   "mimetype": "text/x-python",
   "name": "python",
   "nbconvert_exporter": "python",
   "pygments_lexer": "ipython3",
   "version": "3.11.13"
  }
 },
 "nbformat": 4,
 "nbformat_minor": 5
}
